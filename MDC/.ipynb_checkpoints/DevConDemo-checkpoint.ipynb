{
 "cells": [
  {
   "cell_type": "code",
   "execution_count": 1,
   "metadata": {},
   "outputs": [
    {
     "name": "stderr",
     "output_type": "stream",
     "text": [
      "c:\\users\\ak055384\\appdata\\local\\programs\\python\\python36\\lib\\site-packages\\h5py\\__init__.py:36: FutureWarning: Conversion of the second argument of issubdtype from `float` to `np.floating` is deprecated. In future, it will be treated as `np.float64 == np.dtype(float).type`.\n",
      "  from ._conv import register_converters as _register_converters\n"
     ]
    }
   ],
   "source": [
    "#Add packages\n",
    "#These are my standard packages I load for almost every project\n",
    "%matplotlib inline \n",
    "import numpy as np\n",
    "import pandas as pd\n",
    "import matplotlib.pyplot as plt\n",
    "import tensorflow as tf\n",
    "from sklearn.preprocessing import LabelEncoder\n",
    "from sklearn.preprocessing import StandardScaler\n",
    "from sklearn.utils import  shuffle\n",
    "from sklearn.model_selection import train_test_split\n",
    "from sklearn.preprocessing import OneHotEncoder\n",
    "from sklearn.decomposition import PCA\n",
    "import pickle\n",
    "from sklearn.manifold import TSNE\n",
    "import csv\n",
    "#From Scikit Learn\n",
    "from sklearn import preprocessing\n",
    "from sklearn.model_selection  import train_test_split, cross_val_score, KFold\n",
    "from sklearn.model_selection import GridSearchCV\n",
    "from sklearn import metrics\n",
    "from sklearn.metrics import mean_squared_error, mean_absolute_error, r2_score, explained_variance_score\n",
    "from sklearn.metrics import accuracy_score, precision_score, recall_score, f1_score\n",
    "from sklearn.metrics import roc_curve, auc, confusion_matrix, classification_report\n",
    "import time\n",
    "import re\n",
    "from nltk.stem.porter import PorterStemmer\n",
    "from sklearn.model_selection import cross_val_score\n",
    "from sklearn.neighbors import KNeighborsClassifier\n",
    "from sklearn.cluster import KMeans\n",
    "from sklearn.decomposition import TruncatedSVD\n",
    "from sklearn.decomposition import NMF\n",
    "from sklearn.decomposition import LatentDirichletAllocation\n",
    "from sklearn.feature_extraction import text \n",
    "from sklearn.feature_extraction.text import TfidfVectorizer\n",
    "from sklearn.feature_extraction.text import CountVectorizer\n",
    "from sklearn.preprocessing import Normalizer\n",
    "from sklearn.base import BaseEstimator, TransformerMixin\n",
    "from sklearn.utils import check_array\n",
    "from sklearn.preprocessing import LabelEncoder\n",
    "from scipy import sparse\n",
    "from functools import partial\n",
    "import warnings\n",
    "warnings.filterwarnings('ignore')\n",
    "\n",
    "logPath = \"./tb_logs\"\n",
    "n_class = 500\n",
    "features = 2500\n",
    "\n"
   ]
  },
  {
   "cell_type": "code",
   "execution_count": 2,
   "metadata": {},
   "outputs": [],
   "source": [
    "class CategoricalEncoder(BaseEstimator, TransformerMixin):\n",
    "    def __init__(self, encoding='onehot', categories='auto', dtype=np.float64,\n",
    "                 handle_unknown='error'):\n",
    "        self.encoding = encoding\n",
    "        self.categories = categories\n",
    "        self.dtype = dtype\n",
    "        self.handle_unknown = handle_unknown\n",
    "\n",
    "    def fit(self, X, y=None):\n",
    "\n",
    "        if self.encoding not in ['onehot', 'onehot-dense', 'ordinal']:\n",
    "            template = (\"encoding should be either 'onehot', 'onehot-dense' \"\n",
    "                        \"or 'ordinal', got %s\")\n",
    "            raise ValueError(template % self.handle_unknown)\n",
    "\n",
    "        if self.handle_unknown not in ['error', 'ignore']:\n",
    "            template = (\"handle_unknown should be either 'error' or \"\n",
    "                        \"'ignore', got %s\")\n",
    "            raise ValueError(template % self.handle_unknown)\n",
    "\n",
    "        if self.encoding == 'ordinal' and self.handle_unknown == 'ignore':\n",
    "            raise ValueError(\"handle_unknown='ignore' is not supported for\"\n",
    "                             \" encoding='ordinal'\")\n",
    "\n",
    "        X = check_array(X, dtype=np.object, accept_sparse='csc', copy=True)\n",
    "        n_samples, n_features = X.shape\n",
    "\n",
    "        self._label_encoders_ = [LabelEncoder() for _ in range(n_features)]\n",
    "\n",
    "        for i in range(n_features):\n",
    "            le = self._label_encoders_[i]\n",
    "            Xi = X[:, i]\n",
    "            if self.categories == 'auto':\n",
    "                le.fit(Xi)\n",
    "            else:\n",
    "                valid_mask = np.in1d(Xi, self.categories[i])\n",
    "                if not np.all(valid_mask):\n",
    "                    if self.handle_unknown == 'error':\n",
    "                        diff = np.unique(Xi[~valid_mask])\n",
    "                        msg = (\"Found unknown categories {0} in column {1}\"\n",
    "                               \" during fit\".format(diff, i))\n",
    "                        raise ValueError(msg)\n",
    "                le.classes_ = np.array(np.sort(self.categories[i]))\n",
    "\n",
    "        self.categories_ = [le.classes_ for le in self._label_encoders_]\n",
    "\n",
    "        return self\n",
    "\n",
    "    def transform(self, X):\n",
    "        X = check_array(X, accept_sparse='csc', dtype=np.object, copy=True)\n",
    "        n_samples, n_features = X.shape\n",
    "        X_int = np.zeros_like(X, dtype=np.int)\n",
    "        X_mask = np.ones_like(X, dtype=np.bool)\n",
    "\n",
    "        for i in range(n_features):\n",
    "            valid_mask = np.in1d(X[:, i], self.categories_[i])\n",
    "\n",
    "            if not np.all(valid_mask):\n",
    "                if self.handle_unknown == 'error':\n",
    "                    diff = np.unique(X[~valid_mask, i])\n",
    "                    msg = (\"Found unknown categories {0} in column {1}\"\n",
    "                           \" during transform\".format(diff, i))\n",
    "                    raise ValueError(msg)\n",
    "                else:\n",
    "                    # Set the problematic rows to an acceptable value and\n",
    "                    # continue `The rows are marked `X_mask` and will be\n",
    "                    # removed later.\n",
    "                    X_mask[:, i] = valid_mask\n",
    "                    X[:, i][~valid_mask] = self.categories_[i][0]\n",
    "            X_int[:, i] = self._label_encoders_[i].transform(X[:, i])\n",
    "\n",
    "        if self.encoding == 'ordinal':\n",
    "            return X_int.astype(self.dtype, copy=False)\n",
    "\n",
    "        mask = X_mask.ravel()\n",
    "        n_values = [cats.shape[0] for cats in self.categories_]\n",
    "        n_values = np.array([0] + n_values)\n",
    "        indices = np.cumsum(n_values)\n",
    "\n",
    "        column_indices = (X_int + indices[:-1]).ravel()[mask]\n",
    "        row_indices = np.repeat(np.arange(n_samples, dtype=np.int32),\n",
    "                                n_features)[mask]\n",
    "        data = np.ones(n_samples * n_features)[mask]\n",
    "\n",
    "        out = sparse.csc_matrix((data, (row_indices, column_indices)),\n",
    "                                shape=(n_samples, indices[-1]),\n",
    "                                dtype=self.dtype).tocsr()\n",
    "        if self.encoding == 'onehot-dense':\n",
    "            return out.toarray()\n",
    "        else:\n",
    "            return out"
   ]
  },
  {
   "cell_type": "code",
   "execution_count": 3,
   "metadata": {},
   "outputs": [
    {
     "name": "stdout",
     "output_type": "stream",
     "text": [
      "C:\\Users\\ak055384\\Documents\\HIMClaims\\MDC\n"
     ]
    }
   ],
   "source": [
    "cd C:\\\\Users\\\\ak055384\\\\Documents\\\\HIMClaims\\\\MDC"
   ]
  },
  {
   "cell_type": "code",
   "execution_count": 4,
   "metadata": {},
   "outputs": [
    {
     "data": {
      "text/html": [
       "<div>\n",
       "<style scoped>\n",
       "    .dataframe tbody tr th:only-of-type {\n",
       "        vertical-align: middle;\n",
       "    }\n",
       "\n",
       "    .dataframe tbody tr th {\n",
       "        vertical-align: top;\n",
       "    }\n",
       "\n",
       "    .dataframe thead th {\n",
       "        text-align: right;\n",
       "    }\n",
       "</style>\n",
       "<table border=\"1\" class=\"dataframe\">\n",
       "  <thead>\n",
       "    <tr style=\"text-align: right;\">\n",
       "      <th></th>\n",
       "      <th>DESYNPUF_ID</th>\n",
       "      <th>CLM_ID</th>\n",
       "      <th>SEGMENT</th>\n",
       "      <th>CLM_FROM_DT</th>\n",
       "      <th>CLM_THRU_DT</th>\n",
       "      <th>PRVDR_NUM</th>\n",
       "      <th>CLM_PMT_AMT</th>\n",
       "      <th>NCH_PRMRY_PYR_CLM_PD_AMT</th>\n",
       "      <th>AT_PHYSN_NPI</th>\n",
       "      <th>OP_PHYSN_NPI</th>\n",
       "      <th>...</th>\n",
       "      <th>HCPCS_CD_36</th>\n",
       "      <th>HCPCS_CD_37</th>\n",
       "      <th>HCPCS_CD_38</th>\n",
       "      <th>HCPCS_CD_39</th>\n",
       "      <th>HCPCS_CD_40</th>\n",
       "      <th>HCPCS_CD_41</th>\n",
       "      <th>HCPCS_CD_42</th>\n",
       "      <th>HCPCS_CD_43</th>\n",
       "      <th>HCPCS_CD_44</th>\n",
       "      <th>HCPCS_CD_45</th>\n",
       "    </tr>\n",
       "  </thead>\n",
       "  <tbody>\n",
       "    <tr>\n",
       "      <th>0</th>\n",
       "      <td>00013D2EFD8E45D1</td>\n",
       "      <td>196661176988405</td>\n",
       "      <td>1</td>\n",
       "      <td>20100312.0</td>\n",
       "      <td>20100313.0</td>\n",
       "      <td>2600GD</td>\n",
       "      <td>4000.0</td>\n",
       "      <td>0.0</td>\n",
       "      <td>3.139084e+09</td>\n",
       "      <td>NaN</td>\n",
       "      <td>...</td>\n",
       "      <td>NaN</td>\n",
       "      <td>NaN</td>\n",
       "      <td>NaN</td>\n",
       "      <td>NaN</td>\n",
       "      <td>NaN</td>\n",
       "      <td>NaN</td>\n",
       "      <td>NaN</td>\n",
       "      <td>NaN</td>\n",
       "      <td>NaN</td>\n",
       "      <td>NaN</td>\n",
       "    </tr>\n",
       "    <tr>\n",
       "      <th>1</th>\n",
       "      <td>00016F745862898F</td>\n",
       "      <td>196201177000368</td>\n",
       "      <td>1</td>\n",
       "      <td>20090412.0</td>\n",
       "      <td>20090418.0</td>\n",
       "      <td>3900MB</td>\n",
       "      <td>26000.0</td>\n",
       "      <td>0.0</td>\n",
       "      <td>6.476809e+09</td>\n",
       "      <td>NaN</td>\n",
       "      <td>...</td>\n",
       "      <td>NaN</td>\n",
       "      <td>NaN</td>\n",
       "      <td>NaN</td>\n",
       "      <td>NaN</td>\n",
       "      <td>NaN</td>\n",
       "      <td>NaN</td>\n",
       "      <td>NaN</td>\n",
       "      <td>NaN</td>\n",
       "      <td>NaN</td>\n",
       "      <td>NaN</td>\n",
       "    </tr>\n",
       "    <tr>\n",
       "      <th>2</th>\n",
       "      <td>00016F745862898F</td>\n",
       "      <td>196661177015632</td>\n",
       "      <td>1</td>\n",
       "      <td>20090831.0</td>\n",
       "      <td>20090902.0</td>\n",
       "      <td>3900HM</td>\n",
       "      <td>5000.0</td>\n",
       "      <td>0.0</td>\n",
       "      <td>6.119985e+08</td>\n",
       "      <td>6.119985e+08</td>\n",
       "      <td>...</td>\n",
       "      <td>NaN</td>\n",
       "      <td>NaN</td>\n",
       "      <td>NaN</td>\n",
       "      <td>NaN</td>\n",
       "      <td>NaN</td>\n",
       "      <td>NaN</td>\n",
       "      <td>NaN</td>\n",
       "      <td>NaN</td>\n",
       "      <td>NaN</td>\n",
       "      <td>NaN</td>\n",
       "    </tr>\n",
       "    <tr>\n",
       "      <th>3</th>\n",
       "      <td>00016F745862898F</td>\n",
       "      <td>196091176981058</td>\n",
       "      <td>1</td>\n",
       "      <td>20090917.0</td>\n",
       "      <td>20090920.0</td>\n",
       "      <td>3913XU</td>\n",
       "      <td>5000.0</td>\n",
       "      <td>0.0</td>\n",
       "      <td>4.971603e+09</td>\n",
       "      <td>NaN</td>\n",
       "      <td>...</td>\n",
       "      <td>NaN</td>\n",
       "      <td>NaN</td>\n",
       "      <td>NaN</td>\n",
       "      <td>NaN</td>\n",
       "      <td>NaN</td>\n",
       "      <td>NaN</td>\n",
       "      <td>NaN</td>\n",
       "      <td>NaN</td>\n",
       "      <td>NaN</td>\n",
       "      <td>NaN</td>\n",
       "    </tr>\n",
       "    <tr>\n",
       "      <th>4</th>\n",
       "      <td>00016F745862898F</td>\n",
       "      <td>196261176983265</td>\n",
       "      <td>1</td>\n",
       "      <td>20100626.0</td>\n",
       "      <td>20100701.0</td>\n",
       "      <td>3900MB</td>\n",
       "      <td>16000.0</td>\n",
       "      <td>0.0</td>\n",
       "      <td>6.408400e+09</td>\n",
       "      <td>1.960860e+09</td>\n",
       "      <td>...</td>\n",
       "      <td>NaN</td>\n",
       "      <td>NaN</td>\n",
       "      <td>NaN</td>\n",
       "      <td>NaN</td>\n",
       "      <td>NaN</td>\n",
       "      <td>NaN</td>\n",
       "      <td>NaN</td>\n",
       "      <td>NaN</td>\n",
       "      <td>NaN</td>\n",
       "      <td>NaN</td>\n",
       "    </tr>\n",
       "  </tbody>\n",
       "</table>\n",
       "<p>5 rows × 81 columns</p>\n",
       "</div>"
      ],
      "text/plain": [
       "        DESYNPUF_ID           CLM_ID  SEGMENT  CLM_FROM_DT  CLM_THRU_DT  \\\n",
       "0  00013D2EFD8E45D1  196661176988405        1   20100312.0   20100313.0   \n",
       "1  00016F745862898F  196201177000368        1   20090412.0   20090418.0   \n",
       "2  00016F745862898F  196661177015632        1   20090831.0   20090902.0   \n",
       "3  00016F745862898F  196091176981058        1   20090917.0   20090920.0   \n",
       "4  00016F745862898F  196261176983265        1   20100626.0   20100701.0   \n",
       "\n",
       "  PRVDR_NUM  CLM_PMT_AMT  NCH_PRMRY_PYR_CLM_PD_AMT  AT_PHYSN_NPI  \\\n",
       "0    2600GD       4000.0                       0.0  3.139084e+09   \n",
       "1    3900MB      26000.0                       0.0  6.476809e+09   \n",
       "2    3900HM       5000.0                       0.0  6.119985e+08   \n",
       "3    3913XU       5000.0                       0.0  4.971603e+09   \n",
       "4    3900MB      16000.0                       0.0  6.408400e+09   \n",
       "\n",
       "   OP_PHYSN_NPI     ...      HCPCS_CD_36  HCPCS_CD_37 HCPCS_CD_38  \\\n",
       "0           NaN     ...              NaN          NaN         NaN   \n",
       "1           NaN     ...              NaN          NaN         NaN   \n",
       "2  6.119985e+08     ...              NaN          NaN         NaN   \n",
       "3           NaN     ...              NaN          NaN         NaN   \n",
       "4  1.960860e+09     ...              NaN          NaN         NaN   \n",
       "\n",
       "   HCPCS_CD_39  HCPCS_CD_40  HCPCS_CD_41  HCPCS_CD_42  HCPCS_CD_43  \\\n",
       "0          NaN          NaN          NaN          NaN          NaN   \n",
       "1          NaN          NaN          NaN          NaN          NaN   \n",
       "2          NaN          NaN          NaN          NaN          NaN   \n",
       "3          NaN          NaN          NaN          NaN          NaN   \n",
       "4          NaN          NaN          NaN          NaN          NaN   \n",
       "\n",
       "   HCPCS_CD_44 HCPCS_CD_45  \n",
       "0          NaN         NaN  \n",
       "1          NaN         NaN  \n",
       "2          NaN         NaN  \n",
       "3          NaN         NaN  \n",
       "4          NaN         NaN  \n",
       "\n",
       "[5 rows x 81 columns]"
      ]
     },
     "execution_count": 4,
     "metadata": {},
     "output_type": "execute_result"
    }
   ],
   "source": [
    "claims = pd.read_csv(\"DE1_0_2008_to_2010_Inpatient_Claims_Sample_1.csv\", sep=\",\", encoding = 'utf8')\n",
    "claims.head()"
   ]
  },
  {
   "cell_type": "code",
   "execution_count": 5,
   "metadata": {},
   "outputs": [
    {
     "data": {
      "text/plain": [
       "Text(0.5,1,'Grouper(DRG)')"
      ]
     },
     "execution_count": 5,
     "metadata": {},
     "output_type": "execute_result"
    },
    {
     "data": {
      "image/png": "[encoded data removed]",
      "text/plain": [
       "<matplotlib.figure.Figure at 0x27893c87f98>"
      ]
     },
     "metadata": {},
     "output_type": "display_data"
    }
   ],
   "source": [
    "targetName = 'CLM_DRG_CD'\n",
    "claimsAgg = claims.groupby(targetName)['CLM_ID'].aggregate(len)\n",
    "claimsAgg.plot(kind='bar', grid=False, figsize=(20,20)).set_title('Grouper(DRG)')"
   ]
  },
  {
   "cell_type": "code",
   "execution_count": 6,
   "metadata": {},
   "outputs": [
    {
     "name": "stdout",
     "output_type": "stream",
     "text": [
      "Index(['DESYNPUF_ID', 'BENE_BIRTH_DT', 'BENE_DEATH_DT', 'BENE_SEX_IDENT_CD',\n",
      "       'BENE_RACE_CD', 'BENE_ESRD_IND', 'SP_STATE_CODE', 'BENE_COUNTY_CD',\n",
      "       'BENE_HI_CVRAGE_TOT_MONS', 'BENE_SMI_CVRAGE_TOT_MONS',\n",
      "       'BENE_HMO_CVRAGE_TOT_MONS', 'PLAN_CVRG_MOS_NUM', 'SP_ALZHDMTA',\n",
      "       'SP_CHF', 'SP_CHRNKIDN', 'SP_CNCR', 'SP_COPD', 'SP_DEPRESSN',\n",
      "       'SP_DIABETES', 'SP_ISCHMCHT', 'SP_OSTEOPRS', 'SP_RA_OA', 'SP_STRKETIA',\n",
      "       'MEDREIMB_IP', 'BENRES_IP', 'PPPYMT_IP', 'MEDREIMB_OP', 'BENRES_OP',\n",
      "       'PPPYMT_OP', 'MEDREIMB_CAR', 'BENRES_CAR', 'PPPYMT_CAR'],\n",
      "      dtype='object')\n"
     ]
    }
   ],
   "source": [
    "summary = pd.read_csv(\"DE1_0_2008_Beneficiary_Summary_File_Sample_1.csv\", sep=\",\", encoding = 'utf8')\n",
    "print(summary.columns)"
   ]
  },
  {
   "cell_type": "code",
   "execution_count": 7,
   "metadata": {},
   "outputs": [
    {
     "data": {
      "text/plain": [
       "(66773, 112)"
      ]
     },
     "execution_count": 7,
     "metadata": {},
     "output_type": "execute_result"
    }
   ],
   "source": [
    "claimsSummary = pd.merge(claims, summary, how='inner', on='DESYNPUF_ID')\n",
    "claimsSummary.shape"
   ]
  },
  {
   "cell_type": "code",
   "execution_count": 8,
   "metadata": {},
   "outputs": [
    {
     "data": {
      "text/html": [
       "<div>\n",
       "<style scoped>\n",
       "    .dataframe tbody tr th:only-of-type {\n",
       "        vertical-align: middle;\n",
       "    }\n",
       "\n",
       "    .dataframe tbody tr th {\n",
       "        vertical-align: top;\n",
       "    }\n",
       "\n",
       "    .dataframe thead th {\n",
       "        text-align: right;\n",
       "    }\n",
       "</style>\n",
       "<table border=\"1\" class=\"dataframe\">\n",
       "  <thead>\n",
       "    <tr style=\"text-align: right;\">\n",
       "      <th></th>\n",
       "      <th>CLM_DRG_CD</th>\n",
       "      <th>MDC</th>\n",
       "      <th>Description</th>\n",
       "      <th>Type</th>\n",
       "    </tr>\n",
       "  </thead>\n",
       "  <tbody>\n",
       "    <tr>\n",
       "      <th>0</th>\n",
       "      <td>1</td>\n",
       "      <td>PRE-MDC</td>\n",
       "      <td>HEART TRANSPLANT OR IMPLANT OF HEART ASSIST SY...</td>\n",
       "      <td>Surgical</td>\n",
       "    </tr>\n",
       "    <tr>\n",
       "      <th>1</th>\n",
       "      <td>2</td>\n",
       "      <td>PRE-MDC</td>\n",
       "      <td>HEART TRANSPLANT OR IMPLANT OF HEART ASSIST SY...</td>\n",
       "      <td>Surgical</td>\n",
       "    </tr>\n",
       "    <tr>\n",
       "      <th>2</th>\n",
       "      <td>3</td>\n",
       "      <td>PRE-MDC</td>\n",
       "      <td>ECMO OR TRACH W MV &gt;96 HRS OR PDX EXC FACE, MO...</td>\n",
       "      <td>Surgical</td>\n",
       "    </tr>\n",
       "    <tr>\n",
       "      <th>3</th>\n",
       "      <td>4</td>\n",
       "      <td>PRE-MDC</td>\n",
       "      <td>TRACH W MV &gt;96 HRS OR PDX EXC FACE, MOUTH &amp; NE...</td>\n",
       "      <td>Surgical</td>\n",
       "    </tr>\n",
       "    <tr>\n",
       "      <th>4</th>\n",
       "      <td>5</td>\n",
       "      <td>PRE-MDC</td>\n",
       "      <td>LIVER TRANSPLANT W MCC OR INTESTINAL TRANSPLANT</td>\n",
       "      <td>Surgical</td>\n",
       "    </tr>\n",
       "  </tbody>\n",
       "</table>\n",
       "</div>"
      ],
      "text/plain": [
       "  CLM_DRG_CD      MDC                                        Description  \\\n",
       "0          1  PRE-MDC  HEART TRANSPLANT OR IMPLANT OF HEART ASSIST SY...   \n",
       "1          2  PRE-MDC  HEART TRANSPLANT OR IMPLANT OF HEART ASSIST SY...   \n",
       "2          3  PRE-MDC  ECMO OR TRACH W MV >96 HRS OR PDX EXC FACE, MO...   \n",
       "3          4  PRE-MDC  TRACH W MV >96 HRS OR PDX EXC FACE, MOUTH & NE...   \n",
       "4          5  PRE-MDC    LIVER TRANSPLANT W MCC OR INTESTINAL TRANSPLANT   \n",
       "\n",
       "       Type  \n",
       "0  Surgical  \n",
       "1  Surgical  \n",
       "2  Surgical  \n",
       "3  Surgical  \n",
       "4  Surgical  "
      ]
     },
     "execution_count": 8,
     "metadata": {},
     "output_type": "execute_result"
    }
   ],
   "source": [
    "drg = pd.read_csv(\"Drg.csv\", sep=\",\", encoding = 'utf8')\n",
    "drg['CLM_DRG_CD'] = drg['CLM_DRG_CD'].astype(str)\n",
    "drg.head(5)"
   ]
  },
  {
   "cell_type": "code",
   "execution_count": 9,
   "metadata": {},
   "outputs": [
    {
     "data": {
      "text/plain": [
       "(59642, 115)"
      ]
     },
     "execution_count": 9,
     "metadata": {},
     "output_type": "execute_result"
    }
   ],
   "source": [
    "joinClaims = pd.merge(claimsSummary, drg, how='left', on='CLM_DRG_CD')\n",
    "joinClaims = joinClaims[joinClaims['MDC'].notnull()]\n",
    "targetName = 'MDC'\n",
    "targetSeries = joinClaims[targetName]\n",
    "del joinClaims[targetName]\n",
    "joinClaims.insert(0, targetName, targetSeries)\n",
    "joinClaims.shape"
   ]
  },
  {
   "cell_type": "code",
   "execution_count": 10,
   "metadata": {},
   "outputs": [
    {
     "data": {
      "text/plain": [
       "(59642, 17)"
      ]
     },
     "execution_count": 10,
     "metadata": {},
     "output_type": "execute_result"
    }
   ],
   "source": [
    "interestingColumns = ['MDC', 'ADMTNG_ICD9_DGNS_CD','ICD9_DGNS_CD_1', 'ICD9_DGNS_CD_2',\n",
    "       'ICD9_DGNS_CD_3', 'ICD9_DGNS_CD_4', 'ICD9_DGNS_CD_5', 'ICD9_DGNS_CD_6',\n",
    "       'ICD9_DGNS_CD_7', 'ICD9_DGNS_CD_8', 'ICD9_DGNS_CD_9', 'ICD9_DGNS_CD_10',\n",
    "       'ICD9_PRCDR_CD_1', 'ICD9_PRCDR_CD_2', 'ICD9_PRCDR_CD_3',\n",
    "       'ICD9_PRCDR_CD_4', 'ICD9_PRCDR_CD_5', 'ICD9_PRCDR_CD_6', 'BENE_SEX_IDENT_CD', 'BENE_RACE_CD', 'BENE_BIRTH_DT','SP_STATE_CODE']\n",
    "dgnColumns = ['ADMTNG_ICD9_DGNS_CD', 'ICD9_DGNS_CD_1', 'ICD9_DGNS_CD_2',\n",
    "       'ICD9_DGNS_CD_3', 'ICD9_DGNS_CD_4', 'ICD9_DGNS_CD_5', 'ICD9_DGNS_CD_6',\n",
    "       'ICD9_DGNS_CD_7', 'ICD9_DGNS_CD_8', 'ICD9_DGNS_CD_9', 'ICD9_DGNS_CD_10']\n",
    "prcdrColumns = [ 'ICD9_PRCDR_CD_1', 'ICD9_PRCDR_CD_2', 'ICD9_PRCDR_CD_3',\n",
    "       'ICD9_PRCDR_CD_4', 'ICD9_PRCDR_CD_5', 'ICD9_PRCDR_CD_6']\n",
    "demoColumns = ['BENE_SEX_IDENT_CD', 'BENE_RACE_CD', 'BENE_BIRTH_DT','SP_STATE_CODE']\n",
    "claims_subset_df = joinClaims[dgnColumns + prcdrColumns]\n",
    "claims_subset_df = claims_subset_df.reset_index(drop=True)\n",
    "claims_subset_df.shape"
   ]
  },
  {
   "cell_type": "code",
   "execution_count": 11,
   "metadata": {},
   "outputs": [
    {
     "data": {
      "text/plain": [
       "(59642, 4)"
      ]
     },
     "execution_count": 11,
     "metadata": {},
     "output_type": "execute_result"
    }
   ],
   "source": [
    "claims_subset_df2 = joinClaims[demoColumns]\n",
    "claims_subset_df2 = claims_subset_df2.reset_index(drop=True)\n",
    "claims_subset_df2.shape"
   ]
  },
  {
   "cell_type": "code",
   "execution_count": 12,
   "metadata": {},
   "outputs": [
    {
     "data": {
      "text/plain": [
       "Text(0.5,1,'MDC')"
      ]
     },
     "execution_count": 12,
     "metadata": {},
     "output_type": "execute_result"
    },
    {
     "data": {
      "image/png": "[encoded data removed]",
      "text/plain": [
       "<matplotlib.figure.Figure at 0x2789364c908>"
      ]
     },
     "metadata": {},
     "output_type": "display_data"
    }
   ],
   "source": [
    "claimsAgg = joinClaims.groupby(targetName)['CLM_ID'].aggregate(len)\n",
    "claimsAgg.plot(kind='bar', grid=False, figsize=(20,10)).set_title('MDC')"
   ]
  },
  {
   "cell_type": "code",
   "execution_count": 13,
   "metadata": {},
   "outputs": [],
   "source": [
    "claims_subset_df['ADMTNG_ICD9_DGNS_CD'] = claims_subset_df['ADMTNG_ICD9_DGNS_CD'].astype(str)\n",
    "claims_subset_df['ADMTNG_ICD9_DGNS_CD'] = claims_subset_df['ADMTNG_ICD9_DGNS_CD'].str.strip().str.replace('.', '')\n",
    "claims_subset_df['ADMTNG_ICD9_DGNS_CD'] = claims_subset_df['ADMTNG_ICD9_DGNS_CD'].str.strip().str.replace('NaN', '0')\n",
    "claims_subset_df['ADMTNG_ICD9_DGNS_CD'] = claims_subset_df['ADMTNG_ICD9_DGNS_CD'].str.strip().str.replace('nan', '0')\n",
    "for j in range(1,11):\n",
    "    claims_subset_df['ICD9_DGNS_CD_' + str(j)] = claims_subset_df['ICD9_DGNS_CD_' + str(j)].astype(str)\n",
    "    claims_subset_df['ICD9_DGNS_CD_' + str(j)] = claims_subset_df['ICD9_DGNS_CD_' + str(j)].str.strip().str.replace('.', '')\n",
    "    claims_subset_df['ICD9_DGNS_CD_' + str(j)] = claims_subset_df['ICD9_DGNS_CD_' + str(j)].str.strip().str.replace('NaN', '0')\n",
    "    claims_subset_df['ICD9_DGNS_CD_' + str(j)] = claims_subset_df['ICD9_DGNS_CD_' + str(j)].str.strip().str.replace('nan', '0')\n",
    "for j in range(1,7):\n",
    "    claims_subset_df['ICD9_PRCDR_CD_' + str(j)] = claims_subset_df['ICD9_PRCDR_CD_' + str(j)].astype(str)\n",
    "    claims_subset_df['ICD9_PRCDR_CD_' + str(j)] = claims_subset_df['ICD9_PRCDR_CD_' + str(j)].str.strip().str.replace('.', '')\n",
    "    claims_subset_df['ICD9_PRCDR_CD_' + str(j)] = claims_subset_df['ICD9_PRCDR_CD_' + str(j)].str.strip().str.replace('NaN', '0')\n",
    "    claims_subset_df['ICD9_PRCDR_CD_' + str(j)] = claims_subset_df['ICD9_PRCDR_CD_' + str(j)].str.strip().str.replace('nan', '0')"
   ]
  },
  {
   "cell_type": "code",
   "execution_count": 14,
   "metadata": {},
   "outputs": [
    {
     "name": "stdout",
     "output_type": "stream",
     "text": [
      "(59642, 2907)\n",
      "Time to run 32.94295012492274 seconds\n",
      "(59642, 3962)\n",
      "Time to run 73.12151242412034 seconds\n",
      "(59642, 4339)\n",
      "Time to run 120.19402689208768 seconds\n",
      "(59642, 4602)\n",
      "Time to run 170.85325457996547 seconds\n",
      "(59642, 4797)\n",
      "Time to run 227.5681921072693 seconds\n",
      "(59642, 4952)\n",
      "Time to run 288.18228147394103 seconds\n",
      "(59642, 5077)\n",
      "Time to run 345.8508811045911 seconds\n",
      "(59642, 5165)\n",
      "Time to run 404.5661807322583 seconds\n",
      "(59642, 5241)\n",
      "Time to run 457.7293588633598 seconds\n",
      "(59642, 5251)\n",
      "Time to run 501.28281359911523 seconds\n",
      "(59642, 6327)\n",
      "Time to run 548.3857905625091 seconds\n",
      "(59642, 6376)\n",
      "Time to run 611.6864482711878 seconds\n",
      "(59642, 6408)\n",
      "Time to run 671.8269669997813 seconds\n",
      "(59642, 6423)\n",
      "Time to run 729.1628220720372 seconds\n",
      "(59642, 6434)\n",
      "Time to run 787.6450514020156 seconds\n",
      "(59642, 6443)\n",
      "Time to run 841.0941143776499 seconds\n"
     ]
    }
   ],
   "source": [
    "start_time = time.clock()\n",
    "cat = CategoricalEncoder()\n",
    "train_df = cat.fit_transform(claims_subset_df['ADMTNG_ICD9_DGNS_CD'].values.reshape(-1,1))\n",
    "train_df_c = pd.DataFrame(train_df.toarray(), columns=cat.categories_)\n",
    "for col in interestingColumns[2:18]:   \n",
    "    j=j+1 \n",
    "    cat = CategoricalEncoder()\n",
    "    train_df = cat.fit_transform(claims_subset_df[col].values.reshape(-1,1))\n",
    "    train_df_c = train_df_c.append(pd.DataFrame(train_df.toarray(), columns=cat.categories_))\n",
    "    train_df_c = train_df_c.fillna(0.0)\n",
    "    train_df_c = train_df_c.groupby(train_df_c.index).sum()\n",
    "    print(train_df_c.shape)\n",
    "    print(\"Time to run\", time.clock() - start_time, \"seconds\")"
   ]
  },
  {
   "cell_type": "code",
   "execution_count": 15,
   "metadata": {},
   "outputs": [
    {
     "data": {
      "text/plain": [
       "(59642, 6447)"
      ]
     },
     "execution_count": 15,
     "metadata": {},
     "output_type": "execute_result"
    }
   ],
   "source": [
    "train_df_new = pd.concat([train_df_c,claims_subset_df2 ], axis=1)\n",
    "train_df_new.shape"
   ]
  },
  {
   "cell_type": "code",
   "execution_count": 17,
   "metadata": {},
   "outputs": [
    {
     "name": "stdout",
     "output_type": "stream",
     "text": [
      "(41749, 6447)\n",
      "(41749,)\n",
      "(17893, 6447)\n",
      "(17893,)\n"
     ]
    }
   ],
   "source": [
    "y = targetSeries\n",
    "X = train_df_new\n",
    "X_train, X_test, y_train, y_test = train_test_split(X, y, test_size=0.3, random_state=42)\n",
    "\n",
    "print(X_train.shape)\n",
    "print(y_train.shape)\n",
    "print(X_test.shape)\n",
    "print(y_test.shape)"
   ]
  },
  {
   "cell_type": "code",
   "execution_count": 18,
   "metadata": {},
   "outputs": [
    {
     "name": "stdout",
     "output_type": "stream",
     "text": [
      "DecisionTreeClassifier(class_weight=None, criterion='gini', max_depth=None,\n",
      "            max_features=None, max_leaf_nodes=None,\n",
      "            min_impurity_decrease=0.0, min_impurity_split=None,\n",
      "            min_samples_leaf=1, min_samples_split=2,\n",
      "            min_weight_fraction_leaf=0.0, presort=False, random_state=None,\n",
      "            splitter='best')\n",
      "accuracy: 0.6463980327502376\n",
      "             precision    recall  f1-score   support\n",
      "\n",
      "     MDC-01       0.16      0.12      0.14        85\n",
      "     MDC-02       0.06      0.04      0.05        25\n",
      "     MDC-03       0.28      0.24      0.26       156\n",
      "     MDC-04       0.72      0.75      0.73      2816\n",
      "     MDC-05       0.73      0.78      0.75      4340\n",
      "     MDC-06       0.61      0.63      0.62      1987\n",
      "     MDC-07       0.62      0.52      0.57       545\n",
      "     MDC-08       0.75      0.75      0.75      2227\n",
      "     MDC-09       0.53      0.50      0.51       509\n",
      "     MDC-10       0.40      0.39      0.40       718\n",
      "     MDC-11       0.32      0.31      0.31       679\n",
      "     MDC-12       0.21      0.21      0.21       533\n",
      "     MDC-13       0.76      0.67      0.71       125\n",
      "     MDC-14       0.28      0.47      0.35        17\n",
      "     MDC-16       0.26      0.28      0.27       246\n",
      "     MDC-17       0.41      0.29      0.34       139\n",
      "     MDC-18       0.67      0.68      0.68       868\n",
      "     MDC-19       0.73      0.69      0.70       709\n",
      "     MDC-20       0.55      0.47      0.50       116\n",
      "     MDC-21       0.20      0.12      0.15       217\n",
      "     MDC-22       0.50      0.33      0.40         6\n",
      "     MDC-23       0.87      0.84      0.86       738\n",
      "     MDC-24       0.11      0.07      0.08        15\n",
      "     MDC-25       0.09      0.06      0.07        17\n",
      "UNGROUPABLE       0.02      0.02      0.02        60\n",
      "\n",
      "avg / total       0.64      0.65      0.64     17893\n",
      "\n"
     ]
    }
   ],
   "source": [
    "from sklearn import tree \n",
    "clf_dt = tree.DecisionTreeClassifier()\n",
    "print(clf_dt)\n",
    "clf_dt = clf_dt.fit(X_train, y_train)\n",
    "dt_expected = y_test\n",
    "dt_predicted = clf_dt.predict(X_test)\n",
    "# summarize the fit of the model\n",
    "print(\"accuracy: \" + str(metrics.accuracy_score(dt_expected, dt_predicted)))\n",
    "print(metrics.classification_report(dt_expected, dt_predicted))"
   ]
  },
  {
   "cell_type": "code",
   "execution_count": 19,
   "metadata": {},
   "outputs": [
    {
     "name": "stdout",
     "output_type": "stream",
     "text": [
      "MultinomialNB(alpha=1.0, class_prior=None, fit_prior=False)\n",
      "0.7913709271782261\n",
      "accuracy: 0.7913709271782261\n",
      "             precision    recall  f1-score   support\n",
      "\n",
      "     MDC-01       0.00      0.00      0.00        85\n",
      "     MDC-02       0.00      0.00      0.00        25\n",
      "     MDC-03       1.00      0.01      0.01       156\n",
      "     MDC-04       0.79      0.91      0.85      2816\n",
      "     MDC-05       0.90      0.86      0.88      4340\n",
      "     MDC-06       0.81      0.93      0.87      1987\n",
      "     MDC-07       0.92      0.86      0.89       545\n",
      "     MDC-08       0.91      0.91      0.91      2227\n",
      "     MDC-09       0.82      0.73      0.77       509\n",
      "     MDC-10       0.58      0.68      0.63       718\n",
      "     MDC-11       0.41      0.49      0.45       679\n",
      "     MDC-12       0.35      0.17      0.22       533\n",
      "     MDC-13       1.00      0.07      0.13       125\n",
      "     MDC-14       0.00      0.00      0.00        17\n",
      "     MDC-16       0.72      0.24      0.35       246\n",
      "     MDC-17       1.00      0.22      0.36       139\n",
      "     MDC-18       0.59      0.90      0.71       868\n",
      "     MDC-19       0.73      0.94      0.82       709\n",
      "     MDC-20       1.00      0.02      0.03       116\n",
      "     MDC-21       0.91      0.19      0.31       217\n",
      "     MDC-22       0.00      0.00      0.00         6\n",
      "     MDC-23       0.90      0.86      0.88       738\n",
      "     MDC-24       0.00      0.00      0.00        15\n",
      "     MDC-25       0.00      0.00      0.00        17\n",
      "UNGROUPABLE       0.00      0.00      0.00        60\n",
      "\n",
      "avg / total       0.79      0.79      0.77     17893\n",
      "\n"
     ]
    }
   ],
   "source": [
    "from sklearn.naive_bayes import MultinomialNB\n",
    "\n",
    "clf_nb = MultinomialNB(fit_prior = False)\n",
    "print(clf_nb)\n",
    "clf_nb.fit(X_train, y_train)\n",
    "dt_expected = y_test\n",
    "dt_predicted = clf_nb.predict(X_test)\n",
    "print(clf_nb.score(X_test, y_test))\n",
    "# summarize the fit of the model\n",
    "print(\"accuracy: \" + str(metrics.accuracy_score(dt_expected, dt_predicted)))\n",
    "print(metrics.classification_report(dt_expected, dt_predicted))"
   ]
  },
  {
   "cell_type": "code",
   "execution_count": 20,
   "metadata": {},
   "outputs": [
    {
     "name": "stdout",
     "output_type": "stream",
     "text": [
      "RandomForestClassifier(bootstrap=True, class_weight=None, criterion='gini',\n",
      "            max_depth=None, max_features='auto', max_leaf_nodes=None,\n",
      "            min_impurity_decrease=0.0, min_impurity_split=None,\n",
      "            min_samples_leaf=1, min_samples_split=2,\n",
      "            min_weight_fraction_leaf=0.0, n_estimators=10, n_jobs=1,\n",
      "            oob_score=True, random_state=None, verbose=0, warm_start=False)\n",
      "0.7243614821438551\n",
      "accuracy: 0.7243614821438551\n",
      "             precision    recall  f1-score   support\n",
      "\n",
      "     MDC-01       0.33      0.07      0.12        85\n",
      "     MDC-02       0.50      0.04      0.07        25\n",
      "     MDC-03       0.49      0.23      0.31       156\n",
      "     MDC-04       0.69      0.88      0.77      2816\n",
      "     MDC-05       0.71      0.87      0.79      4340\n",
      "     MDC-06       0.68      0.79      0.73      1987\n",
      "     MDC-07       0.84      0.61      0.70       545\n",
      "     MDC-08       0.85      0.83      0.84      2227\n",
      "     MDC-09       0.76      0.54      0.63       509\n",
      "     MDC-10       0.56      0.35      0.43       718\n",
      "     MDC-11       0.44      0.27      0.33       679\n",
      "     MDC-12       0.34      0.13      0.19       533\n",
      "     MDC-13       0.92      0.76      0.83       125\n",
      "     MDC-14       1.00      0.59      0.74        17\n",
      "     MDC-16       0.58      0.20      0.30       246\n",
      "     MDC-17       0.93      0.31      0.46       139\n",
      "     MDC-18       0.75      0.75      0.75       868\n",
      "     MDC-19       0.82      0.80      0.81       709\n",
      "     MDC-20       0.81      0.51      0.62       116\n",
      "     MDC-21       0.73      0.11      0.19       217\n",
      "     MDC-22       1.00      0.17      0.29         6\n",
      "     MDC-23       0.96      0.83      0.89       738\n",
      "     MDC-24       0.00      0.00      0.00        15\n",
      "     MDC-25       0.00      0.00      0.00        17\n",
      "UNGROUPABLE       1.00      0.02      0.03        60\n",
      "\n",
      "avg / total       0.71      0.72      0.70     17893\n",
      "\n"
     ]
    }
   ],
   "source": [
    "from sklearn.ensemble import RandomForestClassifier\n",
    "\n",
    "clf_rf = RandomForestClassifier(max_features= 'auto', oob_score = True)\n",
    "print(clf_rf)\n",
    "clf_rf.fit(X_train, y_train)\n",
    "dt_expected = y_test\n",
    "dt_predicted = clf_rf.predict(X_test)\n",
    "print(clf_rf.score(X_test, y_test))\n",
    "# summarize the fit of the model\n",
    "print(\"accuracy: \" + str(metrics.accuracy_score(dt_expected, dt_predicted)))\n",
    "print(metrics.classification_report(dt_expected, dt_predicted))"
   ]
  },
  {
   "cell_type": "code",
   "execution_count": null,
   "metadata": {},
   "outputs": [],
   "source": []
  }
 ],
 "metadata": {
  "kernelspec": {
   "display_name": "Python 3",
   "language": "python",
   "name": "python3"
  },
  "language_info": {
   "codemirror_mode": {
    "name": "ipython",
    "version": 3
   },
   "file_extension": ".py",
   "mimetype": "text/x-python",
   "name": "python",
   "nbconvert_exporter": "python",
   "pygments_lexer": "ipython3",
   "version": "3.6.4"
  }
 },
 "nbformat": 4,
 "nbformat_minor": 2
}
